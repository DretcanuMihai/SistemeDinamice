{
 "cells": [
  {
   "cell_type": "markdown",
   "metadata": {},
   "source": [
    "Exercitiul 1"
   ]
  },
  {
   "cell_type": "markdown",
   "metadata": {},
   "source": [
    "a)"
   ]
  },
  {
   "cell_type": "code",
   "execution_count": 7,
   "metadata": {},
   "outputs": [
    {
     "name": "stdout",
     "output_type": "stream",
     "text": [
      "a)\n"
     ]
    },
    {
     "data": {
      "text/html": [
       "<html><script type=\"math/tex; mode=display\">\\newcommand{\\Bold}[1]{\\mathbf{#1}}\\frac{1}{2} \\, \\arctan\\left(y\\left(x\\right)\\right) = \\frac{1}{2} \\, x^{2}</script></html>"
      ],
      "text/latex": [
       "\\begin{math}\n",
       "\\newcommand{\\Bold}[1]{\\mathbf{#1}}\\frac{1}{2} \\, \\arctan\\left(y\\left(x\\right)\\right) = \\frac{1}{2} \\, x^{2}\n",
       "\\end{math}"
      ],
      "text/plain": [
       "1/2*arctan(y(x)) == 1/2*x^2"
      ]
     },
     "metadata": {},
     "output_type": "display_data"
    }
   ],
   "source": [
    "var(\"x\")\n",
    "y(x)=function(\"y\")(x)\n",
    "eq1=diff(y,x,1)==2*x*(1+y^2)\n",
    "sol1=desolve(eq1,[y,x])\n",
    "var(\"_C\")\n",
    "show(sol1.subs(_C==0))"
   ]
  },
  {
   "cell_type": "markdown",
   "metadata": {},
   "source": [
    "b)"
   ]
  },
  {
   "cell_type": "code",
   "execution_count": 8,
   "metadata": {},
   "outputs": [
    {
     "data": {
      "text/html": [
       "<html><script type=\"math/tex; mode=display\">\\newcommand{\\Bold}[1]{\\mathbf{#1}}\\frac{1}{2 \\, y\\left(x\\right)} = \\frac{1}{2} \\, \\log\\left(x + 1\\right) + \\frac{1}{2} \\, \\log\\left(x - 1\\right)</script></html>"
      ],
      "text/latex": [
       "\\begin{math}\n",
       "\\newcommand{\\Bold}[1]{\\mathbf{#1}}\\frac{1}{2 \\, y\\left(x\\right)} = \\frac{1}{2} \\, \\log\\left(x + 1\\right) + \\frac{1}{2} \\, \\log\\left(x - 1\\right)\n",
       "\\end{math}"
      ],
      "text/plain": [
       "1/2/y(x) == 1/2*log(x + 1) + 1/2*log(x - 1)"
      ]
     },
     "metadata": {},
     "output_type": "display_data"
    }
   ],
   "source": [
    "var(\"x\")\n",
    "y(x)=function(\"y\")(x)\n",
    "eq1=(x^2 -1)*diff(y,x,1)+2*x*y^2==0\n",
    "sol1=desolve(eq1,[y,x])\n",
    "var(\"_C\")\n",
    "show(sol1.subs(_C==0))"
   ]
  },
  {
   "cell_type": "markdown",
   "metadata": {},
   "source": [
    "c)"
   ]
  },
  {
   "cell_type": "code",
   "execution_count": 9,
   "metadata": {},
   "outputs": [
    {
     "data": {
      "text/html": [
       "<html><script type=\"math/tex; mode=display\">\\newcommand{\\Bold}[1]{\\mathbf{#1}}0 = e^{\\left(\\frac{2 \\, x}{x - y\\left(x\\right)}\\right)}</script></html>"
      ],
      "text/latex": [
       "\\begin{math}\n",
       "\\newcommand{\\Bold}[1]{\\mathbf{#1}}0 = e^{\\left(\\frac{2 \\, x}{x - y\\left(x\\right)}\\right)}\n",
       "\\end{math}"
      ],
      "text/plain": [
       "0 == e^(2*x/(x - y(x)))"
      ]
     },
     "metadata": {},
     "output_type": "display_data"
    }
   ],
   "source": [
    "var(\"x\")\n",
    "y(x)=function(\"y\")(x)\n",
    "eq1=2*x^2 *diff(y,x,1)==x^2+y^2\n",
    "sol1=desolve(eq1,[y,x])\n",
    "var(\"_C\")\n",
    "show(sol1.subs(_C==0))"
   ]
  },
  {
   "cell_type": "markdown",
   "metadata": {},
   "source": [
    "d)"
   ]
  },
  {
   "cell_type": "code",
   "execution_count": 10,
   "metadata": {},
   "outputs": [
    {
     "data": {
      "text/html": [
       "<html><script type=\"math/tex; mode=display\">\\newcommand{\\Bold}[1]{\\mathbf{#1}}0 = e^{\\left(-\\frac{1}{6} \\, \\sqrt{3} {\\left(\\sqrt{3} \\log\\left(\\frac{x^{2} + x y\\left(x\\right) + y\\left(x\\right)^{2}}{x^{2}}\\right) - 2 \\, \\arctan\\left(\\frac{\\sqrt{3} {\\left(x + 2 \\, y\\left(x\\right)\\right)}}{3 \\, x}\\right)\\right)}\\right)}</script></html>"
      ],
      "text/latex": [
       "\\begin{math}\n",
       "\\newcommand{\\Bold}[1]{\\mathbf{#1}}0 = e^{\\left(-\\frac{1}{6} \\, \\sqrt{3} {\\left(\\sqrt{3} \\log\\left(\\frac{x^{2} + x y\\left(x\\right) + y\\left(x\\right)^{2}}{x^{2}}\\right) - 2 \\, \\arctan\\left(\\frac{\\sqrt{3} {\\left(x + 2 \\, y\\left(x\\right)\\right)}}{3 \\, x}\\right)\\right)}\\right)}\n",
       "\\end{math}"
      ],
      "text/plain": [
       "0 == e^(-1/6*sqrt(3)*(sqrt(3)*log((x^2 + x*y(x) + y(x)^2)/x^2) - 2*arctan(1/3*sqrt(3)*(x + 2*y(x))/x)))"
      ]
     },
     "metadata": {},
     "output_type": "display_data"
    }
   ],
   "source": [
    "var(\"x\")\n",
    "y(x)=function(\"y\")(x)\n",
    "eq1=diff(y,x,1)==-(x+y)/y\n",
    "sol1=desolve(eq1,[y,x])\n",
    "var(\"_C\")\n",
    "show(sol1.subs(_C==0))"
   ]
  },
  {
   "cell_type": "markdown",
   "metadata": {},
   "source": [
    "e)"
   ]
  },
  {
   "cell_type": "code",
   "execution_count": 13,
   "metadata": {},
   "outputs": [
    {
     "data": {
      "text/html": [
       "<html><script type=\"math/tex; mode=display\">\\newcommand{\\Bold}[1]{\\mathbf{#1}}-\\frac{1}{2} \\, {\\left(x - 1\\right)} \\cos\\left(x\\right) + \\frac{1}{2} \\, x \\sin\\left(x\\right)</script></html>"
      ],
      "text/latex": [
       "\\begin{math}\n",
       "\\newcommand{\\Bold}[1]{\\mathbf{#1}}-\\frac{1}{2} \\, {\\left(x - 1\\right)} \\cos\\left(x\\right) + \\frac{1}{2} \\, x \\sin\\left(x\\right)\n",
       "\\end{math}"
      ],
      "text/plain": [
       "-1/2*(x - 1)*cos(x) + 1/2*x*sin(x)"
      ]
     },
     "metadata": {},
     "output_type": "display_data"
    }
   ],
   "source": [
    "var(\"x\")\n",
    "y(x)=function(\"y\")(x)\n",
    "eq1=diff(y,x,2)+y==sin(x)+cos(x)\n",
    "sol1=desolve(eq1,[y,x])\n",
    "var(\"_K1, _K2\");\n",
    "show(sol1.subs(_K1==0,_K2==0))"
   ]
  },
  {
   "cell_type": "markdown",
   "metadata": {},
   "source": [
    "f)"
   ]
  },
  {
   "cell_type": "code",
   "execution_count": 14,
   "metadata": {},
   "outputs": [
    {
     "data": {
      "text/html": [
       "<html><script type=\"math/tex; mode=display\">\\newcommand{\\Bold}[1]{\\mathbf{#1}}\\frac{1}{3} \\, e^{\\left(2 \\, x\\right)}</script></html>"
      ],
      "text/latex": [
       "\\begin{math}\n",
       "\\newcommand{\\Bold}[1]{\\mathbf{#1}}\\frac{1}{3} \\, e^{\\left(2 \\, x\\right)}\n",
       "\\end{math}"
      ],
      "text/plain": [
       "1/3*e^(2*x)"
      ]
     },
     "metadata": {},
     "output_type": "display_data"
    }
   ],
   "source": [
    "var(\"x\")\n",
    "y(x)=function(\"y\")(x)\n",
    "eq1=diff(y,x,2)-y==e^(2*x)\n",
    "sol1=desolve(eq1,[y,x])\n",
    "var(\"_K1, _K2\");\n",
    "show(sol1.subs(_K1==0,_K2==0))"
   ]
  },
  {
   "cell_type": "markdown",
   "metadata": {},
   "source": [
    "g)"
   ]
  },
  {
   "cell_type": "code",
   "execution_count": 19,
   "metadata": {},
   "outputs": [
    {
     "data": {
      "text/html": [
       "<html><script type=\"math/tex; mode=display\">\\newcommand{\\Bold}[1]{\\mathbf{#1}}e^{x} \\log\\left({\\left(e^{x} + 1\\right)} e^{\\left(-x\\right)}\\right) - x + \\log\\left(e^{x} + 1\\right)</script></html>"
      ],
      "text/latex": [
       "\\begin{math}\n",
       "\\newcommand{\\Bold}[1]{\\mathbf{#1}}e^{x} \\log\\left({\\left(e^{x} + 1\\right)} e^{\\left(-x\\right)}\\right) - x + \\log\\left(e^{x} + 1\\right)\n",
       "\\end{math}"
      ],
      "text/plain": [
       "e^x*log((e^x + 1)*e^(-x)) - x + log(e^x + 1)"
      ]
     },
     "metadata": {},
     "output_type": "display_data"
    }
   ],
   "source": [
    "var(\"x\")\n",
    "y(x)=function(\"y\")(x)\n",
    "eq1=diff(y,x,2)-diff(y,x,1)==1/(1+e^x)\n",
    "sol1=desolve(eq1,[y,x])\n",
    "var(\"_K1, _K2\");\n",
    "show(sol1.subs(_K1==0,_K2==0))"
   ]
  },
  {
   "cell_type": "markdown",
   "metadata": {},
   "source": [
    "Exercitiul 2"
   ]
  },
  {
   "cell_type": "markdown",
   "metadata": {},
   "source": [
    "a)"
   ]
  },
  {
   "cell_type": "code",
   "execution_count": 37,
   "metadata": {},
   "outputs": [
    {
     "data": {
      "text/html": [
       "<html><script type=\"math/tex; mode=display\">\\newcommand{\\Bold}[1]{\\mathbf{#1}}\\arctan\\left(y\\left(x\\right)\\right) = \\frac{1}{4} \\, \\pi + x</script></html>"
      ],
      "text/latex": [
       "\\begin{math}\n",
       "\\newcommand{\\Bold}[1]{\\mathbf{#1}}\\arctan\\left(y\\left(x\\right)\\right) = \\frac{1}{4} \\, \\pi + x\n",
       "\\end{math}"
      ],
      "text/plain": [
       "arctan(y(x)) == 1/4*pi + x"
      ]
     },
     "metadata": {},
     "output_type": "display_data"
    },
    {
     "data": {
      "image/png": "[encoded data removed]",
      "text/plain": [
       "Graphics object consisting of 1 graphics primitive"
      ]
     },
     "execution_count": 37,
     "metadata": {},
     "output_type": "execute_result"
    }
   ],
   "source": [
    "var(\"x\")\n",
    "y(x)=function(\"y\")(x)\n",
    "eq1=diff(y,x,1)==1+y^2\n",
    "sol1=desolve(eq1,[y,x],ics=[0,1])\n",
    "show(sol1)\n",
    "var(\"z\")\n",
    "sol1_1=sol1.subs(y(x)==z)\n",
    "implicit_plot(sol11,(x,-10,10),(z,-10,10))"
   ]
  },
  {
   "cell_type": "markdown",
   "metadata": {},
   "source": [
    "b)"
   ]
  },
  {
   "cell_type": "code",
   "execution_count": 31,
   "metadata": {},
   "outputs": [
    {
     "data": {
      "text/html": [
       "<html><script type=\"math/tex; mode=display\">\\newcommand{\\Bold}[1]{\\mathbf{#1}}\\frac{\\sqrt{x^{2} - 1} \\sqrt{x + 1} x - \\sqrt{x + 1} {\\left(2 \\, \\sqrt{3} - \\log\\left(2 \\, \\sqrt{3} + 4\\right)\\right)} - \\sqrt{x + 1} \\log\\left(2 \\, x + 2 \\, \\sqrt{x^{2} - 1}\\right)}{2 \\, \\sqrt{x - 1}}</script></html>"
      ],
      "text/latex": [
       "\\begin{math}\n",
       "\\newcommand{\\Bold}[1]{\\mathbf{#1}}\\frac{\\sqrt{x^{2} - 1} \\sqrt{x + 1} x - \\sqrt{x + 1} {\\left(2 \\, \\sqrt{3} - \\log\\left(2 \\, \\sqrt{3} + 4\\right)\\right)} - \\sqrt{x + 1} \\log\\left(2 \\, x + 2 \\, \\sqrt{x^{2} - 1}\\right)}{2 \\, \\sqrt{x - 1}}\n",
       "\\end{math}"
      ],
      "text/plain": [
       "1/2*(sqrt(x^2 - 1)*sqrt(x + 1)*x - sqrt(x + 1)*(2*sqrt(3) - log(2*sqrt(3) + 4)) - sqrt(x + 1)*log(2*x + 2*sqrt(x^2 - 1)))/sqrt(x - 1)"
      ]
     },
     "metadata": {},
     "output_type": "display_data"
    },
    {
     "data": {
      "image/png": "[encoded data removed]",
      "text/plain": [
       "Graphics object consisting of 1 graphics primitive"
      ]
     },
     "execution_count": 31,
     "metadata": {},
     "output_type": "execute_result"
    }
   ],
   "source": [
    "var(\"x\")\n",
    "y(x)=function(\"y\")(x)\n",
    "eq1=diff(y,x,1)==(1/(1-x^2))*y+1+x\n",
    "sol1=desolve(eq1,[y,x],ics=[2,0])\n",
    "show(sol1)\n",
    "plot(sol1,(x,1,2))"
   ]
  },
  {
   "cell_type": "markdown",
   "metadata": {},
   "source": [
    "c)"
   ]
  },
  {
   "cell_type": "code",
   "execution_count": 32,
   "metadata": {},
   "outputs": [
    {
     "data": {
      "text/html": [
       "<html><script type=\"math/tex; mode=display\">\\newcommand{\\Bold}[1]{\\mathbf{#1}}\\frac{1}{2} \\, x^{2} + \\frac{1}{2} \\, x + \\frac{1}{4}</script></html>"
      ],
      "text/latex": [
       "\\begin{math}\n",
       "\\newcommand{\\Bold}[1]{\\mathbf{#1}}\\frac{1}{2} \\, x^{2} + \\frac{1}{2} \\, x + \\frac{1}{4}\n",
       "\\end{math}"
      ],
      "text/plain": [
       "1/2*x^2 + 1/2*x + 1/4"
      ]
     },
     "metadata": {},
     "output_type": "display_data"
    },
    {
     "data": {
      "image/png": "[encoded data removed]",
      "text/plain": [
       "Graphics object consisting of 1 graphics primitive"
      ]
     },
     "execution_count": 32,
     "metadata": {},
     "output_type": "execute_result"
    }
   ],
   "source": [
    "var(\"x\")\n",
    "y(x)=function(\"y\")(x)\n",
    "eq1=diff(y,x,1)-2*y==-x^2\n",
    "sol1=desolve(eq1,[y,x],ics=[0,1/4])\n",
    "show(sol1)\n",
    "plot(sol1,(x,-10,10))"
   ]
  },
  {
   "cell_type": "markdown",
   "metadata": {},
   "source": [
    "d)"
   ]
  },
  {
   "cell_type": "code",
   "execution_count": 34,
   "metadata": {},
   "outputs": [
    {
     "data": {
      "text/html": [
       "<html><script type=\"math/tex; mode=display\">\\newcommand{\\Bold}[1]{\\mathbf{#1}}e^{\\left(4 \\, x\\right)} + 4 \\, e^{x}</script></html>"
      ],
      "text/latex": [
       "\\begin{math}\n",
       "\\newcommand{\\Bold}[1]{\\mathbf{#1}}e^{\\left(4 \\, x\\right)} + 4 \\, e^{x}\n",
       "\\end{math}"
      ],
      "text/plain": [
       "e^(4*x) + 4*e^x"
      ]
     },
     "metadata": {},
     "output_type": "display_data"
    },
    {
     "data": {
      "image/png": "[encoded data removed]",
      "text/plain": [
       "Graphics object consisting of 1 graphics primitive"
      ]
     },
     "execution_count": 34,
     "metadata": {},
     "output_type": "execute_result"
    }
   ],
   "source": [
    "var(\"x\")\n",
    "y(x)=function(\"y\")(x)\n",
    "eq1=diff(y,x,2)-5*diff(y,x,1)+4*y==0\n",
    "sol1=desolve(eq1,[y,x],ics=[0,5,8])\n",
    "show(sol1)\n",
    "plot(sol1,(x,-10,10))"
   ]
  },
  {
   "cell_type": "markdown",
   "metadata": {},
   "source": [
    "e)"
   ]
  },
  {
   "cell_type": "code",
   "execution_count": 40,
   "metadata": {},
   "outputs": [
    {
     "data": {
      "text/html": [
       "<html><script type=\"math/tex; mode=display\">\\newcommand{\\Bold}[1]{\\mathbf{#1}}{\\left(\\cos\\left(x\\right) - 2 \\, \\sin\\left(x\\right)\\right)} e^{\\left(2 \\, x\\right)} + {\\left(x^{2} + 2 \\, x + 1\\right)} e^{x}</script></html>"
      ],
      "text/latex": [
       "\\begin{math}\n",
       "\\newcommand{\\Bold}[1]{\\mathbf{#1}}{\\left(\\cos\\left(x\\right) - 2 \\, \\sin\\left(x\\right)\\right)} e^{\\left(2 \\, x\\right)} + {\\left(x^{2} + 2 \\, x + 1\\right)} e^{x}\n",
       "\\end{math}"
      ],
      "text/plain": [
       "(cos(x) - 2*sin(x))*e^(2*x) + (x^2 + 2*x + 1)*e^x"
      ]
     },
     "metadata": {},
     "output_type": "display_data"
    },
    {
     "data": {
      "image/png": "[encoded data removed]",
      "text/plain": [
       "Graphics object consisting of 1 graphics primitive"
      ]
     },
     "execution_count": 40,
     "metadata": {},
     "output_type": "execute_result"
    }
   ],
   "source": [
    "var(\"x\")\n",
    "y(x)=function(\"y\")(x)\n",
    "eq1=diff(y,x,2)-4*diff(y,x,1)+5*y==2*(x^2)*e^x\n",
    "sol1=desolve(eq1,[y,x],ics=[0,2,3])\n",
    "show(sol1)\n",
    "plot(sol1,(x,-10,10))"
   ]
  },
  {
   "cell_type": "markdown",
   "metadata": {},
   "source": [
    "f)"
   ]
  },
  {
   "cell_type": "code",
   "execution_count": 42,
   "metadata": {},
   "outputs": [
    {
     "data": {
      "text/html": [
       "<html><script type=\"math/tex; mode=display\">\\newcommand{\\Bold}[1]{\\mathbf{#1}}\\frac{1}{2} \\, {\\left(6 \\, \\pi - 1\\right)} \\cos\\left(2 \\, x\\right) - \\frac{1}{2} \\, {\\left(2 \\, x - 1\\right)} \\cos\\left(2 \\, x\\right) + x \\sin\\left(2 \\, x\\right) + \\frac{1}{2} \\, \\sin\\left(2 \\, x\\right)</script></html>"
      ],
      "text/latex": [
       "\\begin{math}\n",
       "\\newcommand{\\Bold}[1]{\\mathbf{#1}}\\frac{1}{2} \\, {\\left(6 \\, \\pi - 1\\right)} \\cos\\left(2 \\, x\\right) - \\frac{1}{2} \\, {\\left(2 \\, x - 1\\right)} \\cos\\left(2 \\, x\\right) + x \\sin\\left(2 \\, x\\right) + \\frac{1}{2} \\, \\sin\\left(2 \\, x\\right)\n",
       "\\end{math}"
      ],
      "text/plain": [
       "1/2*(6*pi - 1)*cos(2*x) - 1/2*(2*x - 1)*cos(2*x) + x*sin(2*x) + 1/2*sin(2*x)"
      ]
     },
     "metadata": {},
     "output_type": "display_data"
    },
    {
     "data": {
      "image/png": "[encoded data removed]",
      "text/plain": [
       "Graphics object consisting of 1 graphics primitive"
      ]
     },
     "execution_count": 42,
     "metadata": {},
     "output_type": "execute_result"
    }
   ],
   "source": [
    "var(\"x\")\n",
    "y(x)=function(\"y\")(x)\n",
    "eq1=diff(y,x,2)+4*y==4*(sin(2*x)+cos(2*x))\n",
    "sol1=desolve(eq1,[y,x],ics=[pi,2*pi,2*pi])\n",
    "show(sol1)\n",
    "plot(sol1,(x,-10,10))"
   ]
  },
  {
   "cell_type": "markdown",
   "metadata": {},
   "source": [
    "Exercitiul 3"
   ]
  },
  {
   "cell_type": "markdown",
   "metadata": {},
   "source": [
    "Rezolvarea problemei este facuta separat, in acelasi folder"
   ]
  },
  {
   "cell_type": "markdown",
   "metadata": {},
   "source": [
    "Exercitiul 4"
   ]
  },
  {
   "cell_type": "code",
   "execution_count": 10,
   "metadata": {},
   "outputs": [
    {
     "data": {
      "image/png": "[encoded data removed]",
      "text/plain": [
       "Graphics object consisting of 1 graphics primitive"
      ]
     },
     "execution_count": 10,
     "metadata": {},
     "output_type": "execute_result"
    }
   ],
   "source": [
    "var(\"x,a,b\")\n",
    "y(x)=function(\"y\")(x)\n",
    "eq1=diff(y,x,1)==y(x)+a*x+b\n",
    "sol1=desolve(eq1,[y,x],[0,1])\n",
    "sis_eq1=sol1.subs(x==1)==-5+4*e\n",
    "sis_eq2=sol1.subs(x==2)==-7+4*e^2\n",
    "solve([sis_eq1,sis_eq2],a,b)\n",
    "sol1_final=sol1.subs(a==2,b==1)\n",
    "plot(sol1_final,(x,-1,1))"
   ]
  },
  {
   "cell_type": "markdown",
   "metadata": {},
   "source": [
    "Exercitiul 5"
   ]
  },
  {
   "cell_type": "code",
   "execution_count": 39,
   "metadata": {},
   "outputs": [
    {
     "data": {
      "text/html": [
       "<html><script type=\"math/tex; mode=display\">\\newcommand{\\Bold}[1]{\\mathbf{#1}}\\frac{1}{3} \\, {\\left(a + 2\\right)} e^{\\left(2 \\, x\\right)} + \\frac{2}{3} \\, {\\left(a - 1\\right)} e^{\\left(-x\\right)}</script></html>"
      ],
      "text/latex": [
       "\\begin{math}\n",
       "\\newcommand{\\Bold}[1]{\\mathbf{#1}}\\frac{1}{3} \\, {\\left(a + 2\\right)} e^{\\left(2 \\, x\\right)} + \\frac{2}{3} \\, {\\left(a - 1\\right)} e^{\\left(-x\\right)}\n",
       "\\end{math}"
      ],
      "text/plain": [
       "1/3*(a + 2)*e^(2*x) + 2/3*(a - 1)*e^(-x)"
      ]
     },
     "metadata": {},
     "output_type": "display_data"
    },
    {
     "data": {
      "text/html": [
       "<html><script type=\"math/tex; mode=display\">\\newcommand{\\Bold}[1]{\\mathbf{#1}}\\verb|pentru|\\phantom{\\verb!x!}\\verb|a>-2,|\\phantom{\\verb!x!}\\verb|limita|\\phantom{\\verb!x!}\\verb|este| +\\infty</script></html>"
      ],
      "text/latex": [
       "\\begin{math}\n",
       "\\newcommand{\\Bold}[1]{\\mathbf{#1}}\\verb|pentru|\\phantom{\\verb!x!}\\verb|a>-2,|\\phantom{\\verb!x!}\\verb|limita|\\phantom{\\verb!x!}\\verb|este| +\\infty\n",
       "\\end{math}"
      ],
      "text/plain": [
       "'pentru a>-2, limita este ' +Infinity"
      ]
     },
     "metadata": {},
     "output_type": "display_data"
    },
    {
     "data": {
      "text/html": [
       "<html><script type=\"math/tex; mode=display\">\\newcommand{\\Bold}[1]{\\mathbf{#1}}\\verb|pentru|\\phantom{\\verb!x!}\\verb|a<-2,|\\phantom{\\verb!x!}\\verb|limita|\\phantom{\\verb!x!}\\verb|este| -\\infty</script></html>"
      ],
      "text/latex": [
       "\\begin{math}\n",
       "\\newcommand{\\Bold}[1]{\\mathbf{#1}}\\verb|pentru|\\phantom{\\verb!x!}\\verb|a<-2,|\\phantom{\\verb!x!}\\verb|limita|\\phantom{\\verb!x!}\\verb|este| -\\infty\n",
       "\\end{math}"
      ],
      "text/plain": [
       "'pentru a<-2, limita este ' -Infinity"
      ]
     },
     "metadata": {},
     "output_type": "display_data"
    }
   ],
   "source": [
    "forget()\n",
    "var(\"x,a\")\n",
    "y(x)=function(\"y\")(x)\n",
    "eq1=diff(y,x,2)-diff(y,x,1)-2*y(x)==0\n",
    "sol1=desolve(eq1,[y,x],[0,a,2])\n",
    "show(sol1)\n",
    "assume(a>-2)\n",
    "show(\"pentru a>-2, limita este \",limit(sol1,x=+infinity))\n",
    "forget()\n",
    "assume(a<-2)\n",
    "show(\"pentru a<-2, limita este \",limit(sol1,x=+infinity))\n",
    "forget()"
   ]
  },
  {
   "cell_type": "code",
   "execution_count": 40,
   "metadata": {},
   "outputs": [
    {
     "data": {
      "text/plain": [
       "0"
      ]
     },
     "execution_count": 40,
     "metadata": {},
     "output_type": "execute_result"
    }
   ],
   "source": [
    "limit(sol1.subs(a==-2),x=+infinity)"
   ]
  },
  {
   "cell_type": "code",
   "execution_count": 47,
   "metadata": {},
   "outputs": [
    {
     "data": {
      "text/html": [
       "<html><script type=\"math/tex; mode=display\">\\newcommand{\\Bold}[1]{\\mathbf{#1}}-2 \\, e^{\\left(-x\\right)}</script></html>"
      ],
      "text/latex": [
       "\\begin{math}\n",
       "\\newcommand{\\Bold}[1]{\\mathbf{#1}}-2 \\, e^{\\left(-x\\right)}\n",
       "\\end{math}"
      ],
      "text/plain": [
       "-2*e^(-x)"
      ]
     },
     "metadata": {},
     "output_type": "display_data"
    },
    {
     "data": {
      "image/png": "[encoded data removed]",
      "text/plain": [
       "Graphics object consisting of 1 graphics primitive"
      ]
     },
     "execution_count": 47,
     "metadata": {},
     "output_type": "execute_result"
    }
   ],
   "source": [
    "sol1_final=sol1.subs(a==-2)\n",
    "show(sol1_final)\n",
    "plot(sol1_final,(x,-10,10),ymin=-10,ymax=10)"
   ]
  },
  {
   "cell_type": "code",
   "execution_count": null,
   "metadata": {},
   "outputs": [],
   "source": []
  }
 ],
 "metadata": {
  "kernelspec": {
   "display_name": "SageMath 9.2",
   "language": "sage",
   "name": "sagemath"
  },
  "language_info": {
   "codemirror_mode": {
    "name": "ipython",
    "version": 3
   },
   "file_extension": ".py",
   "mimetype": "text/x-python",
   "name": "python",
   "nbconvert_exporter": "python",
   "pygments_lexer": "ipython3",
   "version": "3.7.7"
  }
 },
 "nbformat": 4,
 "nbformat_minor": 4
}
